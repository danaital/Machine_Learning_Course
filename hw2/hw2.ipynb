{
 "cells": [
  {
   "cell_type": "markdown",
   "metadata": {
    "nbgrader": {
     "grade": false,
     "grade_id": "cell-6bd0516e7cb654f5",
     "locked": true,
     "schema_version": 1,
     "solution": false
    }
   },
   "source": [
    "# Exercise 2: Decision Trees\n",
    "\n",
    "In this assignment you will implement a Decision Tree algorithm as learned in class.\n",
    "\n",
    "## Read the following instructions carefully:\n",
    "\n",
    "1. This jupyter notebook contains all the step by step instructions needed for this exercise.\n",
    "2. Write **efficient vectorized** code whenever possible. Some calculations in this exercise take several minutes when implemented efficiently, and might take much longer otherwise. Unnecessary loops will result in point deduction.\n",
    "3. You are responsible for the correctness of your code and should add as many tests as you see fit. Tests will not be graded nor checked.\n",
    "4. Write your functions in this notebook only. **Do not create Python modules and import them**.\n",
    "5. You are allowed to use functions and methods from the [Python Standard Library](https://docs.python.org/3/library/) and [numpy](https://www.numpy.org/devdocs/reference/) only. **Do not import anything else.**\n",
    "6. Your code must run without errors. During the environment setup, you were given a specific version of `numpy` to install (1.15.4). Changes of the configuration we provided are at your own risk. Any code that cannot run will not be graded.\n",
    "7. Write your own code. Cheating will not be tolerated.\n",
    "8. Submission includes this notebook only with the exercise number and your ID as the filename. For example: `hw1_123456789_987654321.ipynb` if you submitted in pairs and `hw1_123456789.ipynb` if you submitted the exercise alone.\n",
    "9. Answers to qualitative questions should be written in **markdown** cells (with $\\LaTeX$ support). Answers that will be written in commented code blocks will not be checked.\n",
    "\n",
    "## In this exercise you will perform the following:\n",
    "1. Practice OOP in python.\n",
    "2. Implement two impurity measures: Gini and Entropy.\n",
    "3. Construct a decision tree algorithm.\n",
    "4. Prune the tree to achieve better results.\n",
    "5. Visualize your results."
   ]
  },
  {
   "cell_type": "markdown",
   "metadata": {},
   "source": [
    "# I have read and understood the instructions: *** 205894579 , 206093114  ***"
   ]
  },
  {
   "cell_type": "code",
   "execution_count": 1,
   "metadata": {
    "nbgrader": {
     "grade": false,
     "grade_id": "cell-ed9fe7b1026e33cb",
     "locked": true,
     "schema_version": 1,
     "solution": false
    }
   },
   "outputs": [],
   "source": [
    "import numpy as np\n",
    "import pandas as pd\n",
    "import matplotlib.pyplot as plt\n",
    "\n",
    "# make matplotlib figures appear inline in the notebook\n",
    "%matplotlib inline\n",
    "plt.rcParams['figure.figsize'] = (10.0, 8.0) # set default size of plots\n",
    "plt.rcParams['image.interpolation'] = 'nearest'\n",
    "plt.rcParams['image.cmap'] = 'gray'\n",
    "\n",
    "# Make the notebook automatically reload external python modules\n",
    "%load_ext autoreload\n",
    "%autoreload 2\n",
    "# Ignore warnings\n",
    "import warnings\n",
    "warnings.filterwarnings('ignore')"
   ]
  },
  {
   "cell_type": "markdown",
   "metadata": {
    "nbgrader": {
     "grade": false,
     "grade_id": "cell-c6ac605270c2b091",
     "locked": true,
     "schema_version": 1,
     "solution": false
    }
   },
   "source": [
    "## Warmup - OOP in python\n",
    "\n",
    "Our desicion tree will be implemented using a dedicated python class. Python classes are very similar to classes in Java.\n",
    "\n",
    "\n",
    "You can use the following [site](https://jeffknupp.com/blog/2014/06/18/improve-your-python-python-classes-and-object-oriented-programming/) to learn about classes in python."
   ]
  },
  {
   "cell_type": "code",
   "execution_count": 2,
   "metadata": {},
   "outputs": [],
   "source": [
    "class Node(object):\n",
    "    def __init__(self, data):\n",
    "        self.data = data\n",
    "        self.children = []\n",
    "\n",
    "    def add_child(self, node):\n",
    "        self.children.append(node)"
   ]
  },
  {
   "cell_type": "code",
   "execution_count": 3,
   "metadata": {},
   "outputs": [
    {
     "data": {
      "text/plain": [
       "[<__main__.Node at 0x2199dbd85c8>, <__main__.Node at 0x2199dbd8648>]"
      ]
     },
     "execution_count": 3,
     "metadata": {},
     "output_type": "execute_result"
    }
   ],
   "source": [
    "n = Node(5)\n",
    "p = Node(6)\n",
    "q = Node(7)\n",
    "n.add_child(p)\n",
    "n.add_child(q)\n",
    "n.children"
   ]
  },
  {
   "cell_type": "markdown",
   "metadata": {
    "nbgrader": {
     "grade": false,
     "grade_id": "cell-2f1ceb251c649b62",
     "locked": true,
     "schema_version": 1,
     "solution": false
    }
   },
   "source": [
    "## Data preprocessing\n",
    "\n",
    "For the following exercise, we will use a dataset containing mushroom data `agaricus-lepiota.csv`. \n",
    "\n",
    "This data set includes descriptions of hypothetical samples corresponding to 23 species of gilled mushrooms in the Agaricus and Lepiota Family. Each species is identified as definitely edible, definitely poisonous, or of unknown edibility and not recommended. This latter class was combined with the poisonous\n",
    "one (=there are only two classes **edible** and **poisonous**). \n",
    "    \n",
    "The dataset contains 8124 observations with 22 features:\n",
    "1. cap-shape: bell=b,conical=c,convex=x,flat=f,knobbed=k,sunken=s\n",
    "2. cap-surface: fibrous=f,grooves=g,scaly=y,smooth=s\n",
    "3. cap-color: brown=n,buff=b,cinnamon=c,gray=g,green=r,pink=p,purple=u,red=e,white=w,yellow=y\n",
    "4. bruises: bruises=t,no=f\n",
    "5. odor: almond=a,anise=l,creosote=c,fishy=y,foul=f, musty=m,none=n,pungent=p,spicy=s\n",
    "6. gill-attachment: attached=a,descending=d,free=f,notched=n\n",
    "7. gill-spacing: close=c,crowded=w,distant=d\n",
    "8. gill-size: broad=b,narrow=n\n",
    "9. gill-color: black=k,brown=n,buff=b,chocolate=h,gray=g,green=r,orange=o,pink=p,purple=u,red=e,white=w,yellow=y\n",
    "10. stalk-shape: enlarging=e,tapering=t\n",
    "11. stalk-root: bulbous=b,club=c,cup=u,equal=e,rhizomorphs=z,rooted=r\n",
    "12. stalk-surface-above-ring: fibrous=f,scaly=y,silky=k,smooth=s\n",
    "13. stalk-surface-below-ring: fibrous=f,scaly=y,silky=k,smooth=s\n",
    "14. stalk-color-above-ring: brown=n,buff=b,cinnamon=c,gray=g,orange=o,pink=p,red=e,white=w,yellow=y\n",
    "15. stalk-color-below-ring: brown=n,buff=b,cinnamon=c,gray=g,orange=o,pink=p,red=e,white=w,yellow=y\n",
    "16. veil-type: partial=p,universal=u\n",
    "17. veil-color: brown=n,orange=o,white=w,yellow=y\n",
    "18. ring-number: none=n,one=o,two=t\n",
    "19. ring-type: cobwebby=c,evanescent=e,flaring=f,large=l,none=n,pendant=p,sheathing=s,zone=z\n",
    "20. spore-print-color: black=k,brown=n,buff=b,chocolate=h,green=r,orange=o,purple=u,white=w,yellow=y\n",
    "21. population: abundant=a,clustered=c,numerous=n,scattered=s,several=v,solitary=y\n",
    "22. habitat: grasses=g,leaves=l,meadows=m,paths=p,urban=u,waste=w,woods=d\n",
    "\n",
    "First, we will read and explore the data using pandas and the `.read_csv` method. Pandas is an open source library providing high-performance, easy-to-use data structures and data analysis tools for the Python programming language."
   ]
  },
  {
   "cell_type": "code",
   "execution_count": 4,
   "metadata": {
    "nbgrader": {
     "grade": false,
     "grade_id": "cell-d79cb4542926ad3f",
     "locked": true,
     "schema_version": 1,
     "solution": false
    }
   },
   "outputs": [],
   "source": [
    "# load dataset\n",
    "data = pd.read_csv('agaricus-lepiota.csv')"
   ]
  },
  {
   "cell_type": "markdown",
   "metadata": {},
   "source": [
    "One of the advantages of the Decision Tree algorithm is that almost no preprocessing is required. However, finding missing values is always required."
   ]
  },
  {
   "cell_type": "code",
   "execution_count": 5,
   "metadata": {},
   "outputs": [],
   "source": [
    "#############################################################################\n",
    "# TODO: Find the column\\s with missing values and remove them from the data.#\n",
    "#############################################################################\n",
    "data.dropna(axis=1, how='any', thresh=None, inplace=True)\n",
    "#############################################################################\n",
    "#                             END OF YOUR CODE                              #\n",
    "#############################################################################"
   ]
  },
  {
   "cell_type": "markdown",
   "metadata": {},
   "source": [
    "We will split the dataset to `Training` and `Test` sets"
   ]
  },
  {
   "cell_type": "code",
   "execution_count": 6,
   "metadata": {},
   "outputs": [
    {
     "name": "stdout",
     "output_type": "stream",
     "text": [
      "Training dataset shape:  (6093, 22)\n",
      "Testing dataset shape:  (2031, 22)\n"
     ]
    }
   ],
   "source": [
    "from sklearn.model_selection import train_test_split\n",
    "# Making sure the last column will hold the labels\n",
    "X, y = data.drop('class', axis=1), data['class']\n",
    "X = np.column_stack([X,y])\n",
    "# split dataset using random_state to get the same split each time\n",
    "X_train, X_test = train_test_split(X, random_state=99)\n",
    "\n",
    "print(\"Training dataset shape: \", X_train.shape)\n",
    "print(\"Testing dataset shape: \", X_test.shape)"
   ]
  },
  {
   "cell_type": "code",
   "execution_count": 7,
   "metadata": {},
   "outputs": [
    {
     "data": {
      "text/plain": [
       "(8124,)"
      ]
     },
     "execution_count": 7,
     "metadata": {},
     "output_type": "execute_result"
    }
   ],
   "source": [
    "y.shape"
   ]
  },
  {
   "cell_type": "markdown",
   "metadata": {
    "nbgrader": {
     "grade": false,
     "grade_id": "cell-fd7b0191f3f1e897",
     "locked": true,
     "schema_version": 1,
     "solution": false
    }
   },
   "source": [
    "## Impurity Measures\n",
    "\n",
    "(5 points each - 10 points total)\n",
    "\n",
    "Impurity is a measure of how often a randomly chosen element from the set would be incorrectly labeled if it was randomly labeled according to the distribution of labels in the subset. Implement the functions `calc_gini` and `calc_entropy`. You are encouraged to test your implementation."
   ]
  },
  {
   "cell_type": "code",
   "execution_count": 8,
   "metadata": {},
   "outputs": [],
   "source": [
    "def calc_gini(data):\n",
    "    \"\"\"\n",
    "    Calculate gini impurity measure of a dataset.\n",
    " \n",
    "    Input:\n",
    "    - data: any dataset where the last column holds the labels.\n",
    " \n",
    "    Returns the gini impurity.    \n",
    "    \"\"\"\n",
    "    gini = 0.0\n",
    "    ###########################################################################\n",
    "    # TODO: Implement the function.                                           #\n",
    "    ###########################################################################\n",
    "    last_col = data[:, data.shape[1] - 1]\n",
    "    values, counts = np.unique(last_col, return_counts=True)\n",
    "    s = last_col.shape[0]\n",
    "    score = counts / s\n",
    "    gini = 1 - np.sum(score**2)\n",
    "    ###########################################################################\n",
    "    #                             END OF YOUR CODE                            #\n",
    "    ###########################################################################\n",
    "    return gini"
   ]
  },
  {
   "cell_type": "code",
   "execution_count": 9,
   "metadata": {},
   "outputs": [],
   "source": [
    "def calc_entropy(data):\n",
    "    \"\"\"\n",
    "    Calculate the entropy of a dataset.\n",
    "\n",
    "    Input:\n",
    "    - data: any dataset where the last column holds the labels.\n",
    "\n",
    "    Returns the entropy of the dataset.    \n",
    "    \"\"\"\n",
    "    entropy = 0.0\n",
    "    ###########################################################################\n",
    "    # TODO: Implement the function.                                           #\n",
    "    ###########################################################################\n",
    "    last_col = data[:, data.shape[1] - 1]\n",
    "    values, counts = np.unique(last_col, return_counts=True)\n",
    "    s = last_col.shape[0]\n",
    "    score = counts / s\n",
    "    entropy = np.sum((-1) * score * np.log2(score))\n",
    "    ###########################################################################\n",
    "    #                             END OF YOUR CODE                            #\n",
    "    ###########################################################################\n",
    "    return entropy"
   ]
  },
  {
   "cell_type": "code",
   "execution_count": 10,
   "metadata": {
    "scrolled": true
   },
   "outputs": [
    {
     "data": {
      "text/plain": [
       "(0.4995636322379775, 0.9993703627906085)"
      ]
     },
     "execution_count": 10,
     "metadata": {},
     "output_type": "execute_result"
    }
   ],
   "source": [
    "##### Your Tests Here #####\n",
    "calc_gini(X), calc_entropy(X)"
   ]
  },
  {
   "cell_type": "markdown",
   "metadata": {},
   "source": [
    "## Goodness of Split\n",
    "\n",
    "(10 Points)\n",
    "\n",
    "Given a feature the Goodnees of Split measures the reduction in the impurity if we split the data according to the feature.\n",
    "$$\n",
    "\\Delta\\varphi(S, A) = \\varphi(S) - \\sum_{v\\in Values(A)} \\frac{|S_v|}{|S|}\\varphi(S_v)\n",
    "$$\n",
    "\n",
    "In our implementation the goodness_of_split function will return either the Goodness of Split or the Gain Ratio as learned in class. You'll control the return value with the `gain_ratio` parameter. If this parameter will set to False (the default value) it will return the regular Goodness of Split. If it will set to True it will return the Gain Ratio.\n",
    "$$\n",
    "GainRatio(S,A)=\\frac{InformationGain(S,A)}{SplitInformation(S,A)}\n",
    "$$\n",
    "Where:\n",
    "$$\n",
    "InformationGain(S,A)=Goodness\\ of\\ Split\\ calculated\\ with\\ Entropy\\ as\\ the\\ Impurity\\ function \\\\\n",
    "SplitInformation(S,A)=- \\sum_{a\\in A} \\frac{|S_a|}{|S|}\\log\\frac{|S_a|}{|S|}\n",
    "$$\n",
    "NOTE: you can add more parameters to the function and you can also add more returning variables (The given parameters and the given returning variable should not be touch)."
   ]
  },
  {
   "cell_type": "code",
   "execution_count": 11,
   "metadata": {},
   "outputs": [],
   "source": [
    "def goodness_of_split(data, feature, impurity_func, gain_ratio=False):\n",
    "    \"\"\"\n",
    "    Calculate the goodness of split of a dataset given a feature and impurity function.\n",
    "\n",
    "    Input:\n",
    "    - data: any dataset where the last column holds the labels.\n",
    "    - feature: the feature index.\n",
    "    - impurity func: a function that calculates the impurity.\n",
    "    - gain_ratio: goodness of split or gain ratio flag.\n",
    "\n",
    "    Returns the goodness of split (or the Gain Ration).  \n",
    "    \"\"\"\n",
    "    ###########################################################################\n",
    "    # TODO: Implement the function.                                           #\n",
    "    ###########################################################################\n",
    "    #setting the variables\n",
    "    feature_col = data[:, feature] \n",
    "    feature_vals, feature_counts = np.unique(feature_col, return_counts=True)\n",
    "    feature_values_matrix = np.asarray((feature_vals,feature_counts)).T\n",
    "    split_information, information_gain, phi = 0, 0, 0\n",
    "    #checking for gain_ratio - if true compute with entropy else compute with the given impurity function.\n",
    "    if gain_ratio:\n",
    "        information_gain = calc_entropy(data)\n",
    "    else:\n",
    "        information_gain = impurity_func(data)\n",
    "    \n",
    "    # iterating over the values of attribute A \n",
    "    for feature_answer in feature_values_matrix:\n",
    "        data_for_feature_answer = data[np.where(feature_col == feature_answer[0])]\n",
    "        if gain_ratio:\n",
    "            #calculating entropy for Sa for A == feature_answer \n",
    "            phi= calc_entropy(data_for_feature_answer)\n",
    "            #calculating the split_information for Sa when S=len(data), Sa= feature_answer[1]\n",
    "            split_information -= feature_answer[1]/len(data)* np.log2(feature_answer[1]/len(data))\n",
    "        else:\n",
    "            #calculating impurity for Sa for A == feature_answer \n",
    "            phi = impurity_func(data_for_feature_answer)\n",
    "        \n",
    "        information_gain -= phi*len(data_for_feature_answer)/len(data)\n",
    "    \n",
    "    # checking for gain_ratio - if true split_information must me considered\n",
    "    if gain_ratio:\n",
    "        goodness = information_gain/split_information\n",
    "    else:\n",
    "        goodness = information_gain\n",
    "    ###########################################################################\n",
    "    #                             END OF YOUR CODE                            #\n",
    "    ###########################################################################\n",
    "    return goodness    "
   ]
  },
  {
   "cell_type": "markdown",
   "metadata": {},
   "source": [
    "## Building a Decision Tree\n",
    "\n",
    "(30 points)\n",
    "\n",
    "Use a Python class to construct the decision tree. Your class should support the following functionality:\n",
    "\n",
    "1. Initiating a node for a decision tree. You will need to use several class methods and class attributes and you are free to use them as you see fit. We recommend that every node will hold the feature and value used for the split and its children.\n",
    "2. Your code should support both Gini and Entropy as impurity measures. \n",
    "3. The provided data includes categorical data. In this exercise, when splitting a node create the number of children needed according to the attribute unique values.\n",
    "\n",
    "Complete the class `DecisionNode`. The structure of this class is entirely up to you. \n",
    "\n",
    "Complete the function `build_tree`. This function should get the training dataset and the impurity as inputs, initiate a root for the decision tree and construct the tree according to the procedure you learned in class."
   ]
  },
  {
   "cell_type": "code",
   "execution_count": 12,
   "metadata": {},
   "outputs": [],
   "source": [
    "class DecisionNode:\n",
    "\n",
    "    # This class will hold everything you require to construct a decision tree.\n",
    "    # The structure of this class is up to you. However, you need to support basic \n",
    "    # functionality as described above. It is highly recommended that you \n",
    "    # first read and understand the entire exercise before diving into this class.\n",
    "    \n",
    "    def __init__(self, feature, value, num_of_e_labels = 0, num_of_p_labels = 0 , father_feature = None):\n",
    "        self.feature = feature # column index of criteria being tested from this node to children\n",
    "        self.father_feature= father_feature # column index of criteria being tested from father to this node\n",
    "        self.value = value #the value of feature father's feature value\n",
    "        self.children = [] #the number of children in the next split \n",
    "        self.num_of_e_labels = num_of_e_labels # num of 'e' instances in this node\n",
    "        self.num_of_p_labels = num_of_p_labels # num of 'p' instances in this node\n",
    "        \n",
    "        # evaluating the prediction\n",
    "        if num_of_e_labels > num_of_p_labels:\n",
    "            self.pred = 'e'\n",
    "        else:\n",
    "            self.pred = 'p'\n",
    "            \n",
    "        self.max_depth= 0 #the current maximum depth of the subtree created by this node children\n",
    "        self.nodes_count = 1 #the current number of nodes in the subtree of this node plus this node\n",
    "        \n",
    "    def add_child(self, node):\n",
    "        self.children.append(node)\n",
    "    \n",
    "    def get_children(self):\n",
    "        return self.children\n",
    "        \n",
    "    def update_max_depth(self):\n",
    "        max_d = 0\n",
    "        for child in self.get_children():\n",
    "            if child.max_depth > max_d:\n",
    "                max_d = child.max_depth\n",
    "        else:\n",
    "            self.max_depth = max_d + 1\n",
    "    \n",
    "    def update_nodes_count(self):\n",
    "        list1 = list()\n",
    "        for child in self.get_children(): \n",
    "                list1.append(child.nodes_count)\n",
    "        self.nodes_count += sum(list1)\n",
    "    \n",
    "    \n",
    "    def __repr__(self, level=0):\n",
    "        #check if the node is the the root \n",
    "        if level == 0:\n",
    "            ret = \"[Root, feature=X {}],\\n\".format(self.feature)\n",
    "        else:\n",
    "            #represent the current node\n",
    "            res = \" \" * 2 * level\n",
    "            res +=\"[X{} = {}, \".format(self.father_feature,self.value)\n",
    "            #check if the node is not a leaf\n",
    "            if(len(self.get_children())>1):\n",
    "                res += \"feature=X]\\n\".format(self.feature)\n",
    "            else: #the node is a leaf\n",
    "                res +=\"Leaf]: [{\"\n",
    "                #check for non - monochromatic leaves\n",
    "                if(self.num_of_e_labels > 0 and self.num_of_p_labels > 0):\n",
    "                    res += 'e: {}, p: {}'.format(self.num_of_e_labels,self.num_of_p_labels)\n",
    "                else:\n",
    "                    #monochromatic leaf \n",
    "                    if(self.num_of_e_labels>0):\n",
    "                        res += 'e: {}'.format(self.num_of_e_labels)\n",
    "                    else:\n",
    "                        res += 'p: {}'.format(self.num_of_p_labels)\n",
    "                res+= \"}]\\n\"\n",
    "        #for each child recursively over the tree and represent it\n",
    "        for child in self.children:\n",
    "            res += child.__repr__(level+1)\n",
    "        return res\n",
    "    "
   ]
  },
  {
   "cell_type": "code",
   "execution_count": 13,
   "metadata": {
    "scrolled": true
   },
   "outputs": [],
   "source": [
    "def build_tree(data, impurity, gain_ratio=False, chi=1, max_depth=1000):\n",
    "    \"\"\"\n",
    "    Build a tree using the given impurity measure and training dataset. \n",
    "    You are required to fully grow the tree until all leaves are pure. \n",
    "\n",
    "    Input:\n",
    "    - data: the training dataset.\n",
    "    - impurity: the chosen impurity measure. Notice that you can send a function\n",
    "                as an argument in python.\n",
    "    - gain_ratio: goodness of split or gain ratio flag\n",
    "\n",
    "    Output: the root node of the tree.\n",
    "    \"\"\"\n",
    "    root = None\n",
    "    ###########################################################################\n",
    "    # TODO: Implement the function.                                           #\n",
    "    ###########################################################################\n",
    "    # in order to implement this function we have used 4 inner functions as follows\n",
    "    # 1.find_best_feature             - to find the best feature\n",
    "    # 2.label_count                   - to count the labels of 'e' and 'p' instances\n",
    "    # 3.check_chi                     - to find and calc' chi square formula's values\n",
    "    # 4.build_recursive_tree          - to build the actual tree recursivly\n",
    "    # \n",
    "    # after those there is the initial call \n",
    "    \n",
    "    def find_best_feature(data, impurity, feature_list, gain_ratio):\n",
    "      #setting the veriables \n",
    "        best_feature_index = feature_list[0]\n",
    "        best_feature_gain = -1\n",
    "        #iterating over each feature and checking for the max gain\n",
    "        for i in feature_list:\n",
    "            temp_gain = goodness_of_split(data,i, impurity,gain_ratio)\n",
    "            if temp_gain > best_feature_gain:\n",
    "                best_feature_gain = temp_gain\n",
    "                best_feature_index = i\n",
    "\n",
    "        return best_feature_index #choose the feature that give the maximun change in impurity\n",
    "    \n",
    "    \n",
    "    def label_count(data):\n",
    "        # setting counter variables\n",
    "        e_counter, p_counter= 0, 0\n",
    "        for row in data:\n",
    "            # count if an instance is has 'e' label \n",
    "            if(row[-1] == 'e'):\n",
    "                e_counter += 1\n",
    "            else:\n",
    "                p_counter += 1\n",
    "        # return the tuple of the counters\n",
    "        return (e_counter,p_counter)\n",
    "    \n",
    "    def check_chi(data,feature,chi):\n",
    "         #check for chi\n",
    "        if(chi==1):\n",
    "            return True\n",
    "        sigma = 0\n",
    "        values,degree_of_freedom = np.unique(data[:, feature], return_counts=True)\n",
    "        #monochromatic element\n",
    "        if len(values) == 1:\n",
    "            return False\n",
    "\n",
    "        #calculate the probability of each label\n",
    "        P_Y_p = np.count_nonzero(data[:,-1]=='p') / len(data)\n",
    "        P_Y_e = 1 - P_Y_p\n",
    "\n",
    "        #iterating over all the possible values in the current feature\n",
    "        for value in values:\n",
    "            #get every element in the formula\n",
    "            Df = np.count_nonzero(data[:,feature]==value)\n",
    "            Pf = np.count_nonzero((data[:,feature]==value) & (data[:,-1]=='e'))\n",
    "            Nf = np.count_nonzero((data[:,feature]==value) & (data[:,-1]=='p'))\n",
    "            E_p = Df* P_Y_p\n",
    "            E_e = Df* P_Y_e\n",
    "\n",
    "            #chi square formula\n",
    "            sigma += ((Pf - E_e) ** 2/(E_e)) + ((Nf - E_p) **2 /(E_p))\n",
    "\n",
    "        #check if the chi squre test holds (by checking the value in the table)\n",
    "        if(chi_table[len(values)-1][chi] <= sigma):\n",
    "            return True\n",
    "        else:\n",
    "            return False \n",
    "\n",
    "    def build_recursive_tree(data, impurity, gain_ratio, chi, max_depth,per_value,feature_list,father_feature=None):\n",
    "        # unpacking the tuple created by the inner func\n",
    "        label_e,label_p = label_count(data)\n",
    "    \n",
    "        #stopping condition (for recursion)\n",
    "        if len(feature_list) <= 1 or impurity(data)==0 or max_depth <=0:\n",
    "            return DecisionNode(-1,per_value,label_e,label_p,father_feature)\n",
    "        else:\n",
    "            #get the best feature\n",
    "            best_feature_split = find_best_feature(data,impurity,feature_list, gain_ratio)\n",
    "            if(not check_chi(data,best_feature_split,chi)):\n",
    "                return DecisionNode(-1,per_value,label_e,label_p,father_feature)\n",
    "\n",
    "            #create a root for this sub-tree\n",
    "            root = DecisionNode(best_feature_split, per_value,label_e,label_p,father_feature)\n",
    "\n",
    "            #get a list of all the possible values of this feature chosen for the next spilt \n",
    "            values = np.unique(data[:, best_feature_split])\n",
    "\n",
    "            #removing the best feature from the feature list that we have yet to check in this sub-tree\n",
    "            temp_list = feature_list.copy()\n",
    "            temp_list.remove(best_feature_split)\n",
    "            #spliting to childern\n",
    "            for value in values:\n",
    "                #spliting the data by the specific value of the best feature \n",
    "                new_data = data.copy()\n",
    "                new_data = new_data[np.where(new_data[:,best_feature_split]==value)]\n",
    "                # recursively building the child node\n",
    "                root.add_child(build_recursive_tree(new_data, impurity, gain_ratio, chi, max_depth-1,value,temp_list,best_feature_split))\n",
    "\n",
    "        #calculate the depth and the node count after creating all the children\n",
    "        root.update_max_depth()\n",
    "        root.update_nodes_count()\n",
    "        return root\n",
    "\n",
    "    #this part is the actual build tree\n",
    "    #create a feature list that we have yet to check \n",
    "    feature_list = list(range(0,len(data[0])-1))\n",
    "    #call the initial call to recursive function\n",
    "    root = build_recursive_tree(data, impurity, gain_ratio, chi, max_depth,None,feature_list)\n",
    "\n",
    "    ###########################################################################\n",
    "    #                             END OF YOUR CODE                            #\n",
    "    ###########################################################################\n",
    "    return root"
   ]
  },
  {
   "cell_type": "code",
   "execution_count": 14,
   "metadata": {
    "scrolled": true
   },
   "outputs": [],
   "source": [
    "# python support passing a function as arguments to another function.\n",
    "tree_gini = build_tree(data=X_train, impurity=calc_gini) # gini and goodness of split\n",
    "tree_entropy = build_tree(data=X_train, impurity=calc_entropy) # entropy and goodness of split\n",
    "tree_entropy_gain_ratio = build_tree(data=X_train, impurity=calc_entropy, gain_ratio=True) # entropy and gain ratio"
   ]
  },
  {
   "cell_type": "markdown",
   "metadata": {},
   "source": [
    "## Tree evaluation\n",
    "\n",
    "(10 points) \n",
    "\n",
    "Complete the functions `predict` and `calc_accuracy`. "
   ]
  },
  {
   "cell_type": "code",
   "execution_count": 15,
   "metadata": {},
   "outputs": [],
   "source": [
    "def predict(node, instance):\n",
    "    \"\"\"\n",
    "    Predict a given instance using the decision tree\n",
    " \n",
    "    Input:\n",
    "    - root: the root of the decision tree.\n",
    "    - instance: an row vector from the dataset. Note that the last element \n",
    "                of this vector is the label of the instance.\n",
    " \n",
    "    Output: the prediction of the instance.\n",
    "    \"\"\"\n",
    "    pred = None\n",
    "    ###########################################################################\n",
    "    # TODO: Implement the function.                                           #\n",
    "    ###########################################################################\n",
    "    # if the node is leaf we need the pred otherwise we need the one of the children\n",
    "    while(len(node.get_children())>1):\n",
    "        for child in node.get_children():\n",
    "            # we will check if the child's value matches the instance's value in the checked feature\n",
    "            if child.value == instance[node.feature]:\n",
    "                # we will call the child recursively\n",
    "                node = child\n",
    "                break\n",
    "        else:\n",
    "            return node.pred\n",
    "        \n",
    "    ###########################################################################\n",
    "    #                             END OF YOUR CODE                            #\n",
    "    ###########################################################################\n",
    "    return node.pred"
   ]
  },
  {
   "cell_type": "code",
   "execution_count": 16,
   "metadata": {},
   "outputs": [],
   "source": [
    "def calc_accuracy(node, dataset):\n",
    "    \"\"\"\n",
    "    Predict a given dataset using the decision tree\n",
    " \n",
    "    Input:\n",
    "    - node: a node in the decision tree.\n",
    "    - dataset: the dataset on which the accuracy is evaluated\n",
    " \n",
    "    Output: the accuracy of the decision tree on the given dataset (%).\n",
    "    \"\"\"\n",
    "    accuracy = 0\n",
    "    ###########################################################################\n",
    "    # TODO: Implement the function.                                           #\n",
    "    ###########################################################################\n",
    "    # we will set the variables\n",
    "    counter = 0 #number of correct occurences\n",
    "    all_test = len(dataset) - 1 #number of occerences\n",
    "    \n",
    "    #iterate over the test group and predict each instance  \n",
    "    for row in range(all_test):\n",
    "        pred = predict(node,dataset[row])\n",
    "        # if the tree predicted right we will put up the counter by 1 \n",
    "        if pred == dataset[row][-1]:\n",
    "            counter+=1\n",
    "            \n",
    "    \n",
    "    accuracy = counter/all_test * 100 \n",
    "    ###########################################################################\n",
    "    #                             END OF YOUR CODE                            #\n",
    "    ###########################################################################\n",
    "    return accuracy "
   ]
  },
  {
   "cell_type": "markdown",
   "metadata": {},
   "source": [
    "After building the three trees using the training set, you should calculate the accuracy on the test set. For each tree print the training and test accuracy. Select the tree that gave you the best test accuracy. For the rest of the exercise, use that tree (when you asked to build another tree use the same impurity function and same gain_ratio flag). "
   ]
  },
  {
   "cell_type": "code",
   "execution_count": 17,
   "metadata": {},
   "outputs": [],
   "source": [
    "#### Your code here ####\n",
    "accur = 0\n",
    "key = 4\n",
    "list_of_trees = [tree_gini, tree_entropy, tree_entropy_gain_ratio]\n",
    "for tree_key in range(len(list_of_trees)):\n",
    "    new_accur= calc_accuracy(list_of_trees[tree_key],X_test)\n",
    "    if new_accur>accur:\n",
    "        accur= new_accur\n",
    "        key = tree_key\n"
   ]
  },
  {
   "cell_type": "markdown",
   "metadata": {},
   "source": [
    "## Depth pruning\n",
    "\n",
    "(15 points)\n",
    "\n",
    "Consider the following max_depth values: [1, 2, 3, 4, 5, 6, 7, 8, 9, 10]. For each value, construct a tree and prune it according to the max_depth value = don't let the tree to grow beyond this depth. Next, calculate the training and testing accuracy.<br>\n",
    "On a single plot, draw the training and testing accuracy as a function of the max_depth. Mark the best result on the graph with red circle."
   ]
  },
  {
   "cell_type": "code",
   "execution_count": 18,
   "metadata": {
    "scrolled": true
   },
   "outputs": [
    {
     "data": {
      "image/png": "[encoded data removed]",
      "text/plain": [
       "<Figure size 720x576 with 1 Axes>"
      ]
     },
     "metadata": {
      "needs_background": "light"
     },
     "output_type": "display_data"
    }
   ],
   "source": [
    "#### Your code here ####\n",
    "depths_range = range(1,11) # range of depths to check\n",
    "accuracy_train_list = list() #list of accuracy in the train set\n",
    "accuracy_test_list = list() #list of accuracy in the test set\n",
    "best_accuracy_train, best_accuracy_test = 0, 0 #best accuracy in the train set and test set respectivly\n",
    "best_depth_train, best_depth_test = 0,0 #depth of best accuracy in the train set and test set respectivly\n",
    "\n",
    "for depth in depths_range:\n",
    "    #build the tree for each depth and calcualte the accuracy for both test and train sets \n",
    "    tree = build_tree(data=X_train, impurity=calc_entropy,gain_ratio=True,max_depth=depth)\n",
    "    accuracy_train = (calc_accuracy(tree,X_train))\n",
    "    accuracy_test = (calc_accuracy(tree,X_test))\n",
    "    \n",
    "    #append the accuracy to each list\n",
    "    accuracy_train_list.append(accuracy_train)\n",
    "    accuracy_test_list.append(accuracy_test)\n",
    "    \n",
    "    #check for best accuracy in train set\n",
    "    if accuracy_train > best_accuracy_train:\n",
    "        best_accuracy_train = accuracy_train \n",
    "        best_depth_train = depth\n",
    "    \n",
    "    #check for best accuracy in test set\n",
    "    if accuracy_test > best_accuracy_test:\n",
    "        best_accuracy_test = accuracy_test \n",
    "        best_depth_test = depth\n",
    "\n",
    "#plot the graph\n",
    "plt.scatter(best_depth_test, best_accuracy_test,s=200, color='None',edgecolor = 'red')\n",
    "plt.plot(list(depths_range), accuracy_train_list, label = 'Training Set')\n",
    "plt.plot(list(depths_range), accuracy_test_list, label = 'Test Set')\n",
    "plt.xscale('log')\n",
    "plt.xlabel('The Depth of the Tree')\n",
    "plt.ylabel('Accuracy')\n",
    "plt.title(\"Depth tree's infulence on the Accuracy of the prediction on Training and Test sets\")\n",
    "plt.legend()\n",
    "plt.show()  "
   ]
  },
  {
   "cell_type": "markdown",
   "metadata": {},
   "source": [
    "## Chi square pre-pruning\n",
    "\n",
    "(15 points)\n",
    "\n",
    "Consider the following p-value cut-off values: [1 (no pruning), 0.5, 0.25, 0.1, 0.05, 0.0001 (max pruning)]. For each value, construct a tree and prune it according to the cut-off value. Next, calculate the training and testing accuracy. <br>\n",
    "On a single plot, draw the training and testing accuracy as a function of the tuple (p-value, tree depth). Mark the best result on the graph with red circle."
   ]
  },
  {
   "cell_type": "code",
   "execution_count": 19,
   "metadata": {},
   "outputs": [],
   "source": [
    "### Chi square table values ###\n",
    "# The first key is the degree of freedom \n",
    "# The second key is the p-value cut-off\n",
    "# The values are the chi-statistic that you need to use in the pruning\n",
    "chi_table = {1: {0.5 : 0.45,\n",
    "                 0.25 : 1.32,\n",
    "                 0.1 : 2.71,\n",
    "                 0.05 : 3.84,\n",
    "                 0.0001 : 100000},\n",
    "             2: {0.5 : 1.39,\n",
    "                 0.25 : 2.77,\n",
    "                 0.1 : 4.60,\n",
    "                 0.05 : 5.99,\n",
    "                 0.0001 : 100000},\n",
    "             3: {0.5 : 2.37,\n",
    "                 0.25 : 4.11,\n",
    "                 0.1 : 6.25,\n",
    "                 0.05 : 7.82,\n",
    "                 0.0001 : 100000},\n",
    "             4: {0.5 : 3.36,\n",
    "                 0.25 : 5.38,\n",
    "                 0.1 : 7.78,\n",
    "                 0.05 : 9.49,\n",
    "                 0.0001 : 100000},\n",
    "             5: {0.5 : 4.35,\n",
    "                 0.25 : 6.63,\n",
    "                 0.1 : 9.24,\n",
    "                 0.05 : 11.07,\n",
    "                 0.0001 : 100000},\n",
    "             6: {0.5 : 5.35,\n",
    "                 0.25 : 7.84,\n",
    "                 0.1 : 10.64,\n",
    "                 0.05 : 12.59,\n",
    "                 0.0001 : 100000},\n",
    "             7: {0.5 : 6.35,\n",
    "                 0.25 : 9.04,\n",
    "                 0.1 : 12.01,\n",
    "                 0.05 : 14.07,\n",
    "                 0.0001 : 100000},\n",
    "             8: {0.5 : 7.34,\n",
    "                 0.25 : 10.22,\n",
    "                 0.1 : 13.36,\n",
    "                 0.05 : 15.51,\n",
    "                 0.0001 : 100000},\n",
    "             9: {0.5 : 8.34,\n",
    "                 0.25 : 11.39,\n",
    "                 0.1 : 14.68,\n",
    "                 0.05 : 16.92,\n",
    "                 0.0001 : 100000},\n",
    "             10: {0.5 : 9.34,\n",
    "                  0.25 : 12.55,\n",
    "                  0.1 : 15.99,\n",
    "                  0.05 : 18.31,\n",
    "                  0.0001 : 100000},\n",
    "             11: {0.5 : 10.34,\n",
    "                  0.25 : 13.7,\n",
    "                  0.1 : 17.27,\n",
    "                  0.05 : 19.68,\n",
    "                  0.0001 : 100000}}"
   ]
  },
  {
   "cell_type": "code",
   "execution_count": 20,
   "metadata": {},
   "outputs": [
    {
     "data": {
      "image/png": "[encoded data removed]",
      "text/plain": [
       "<Figure size 1080x720 with 1 Axes>"
      ]
     },
     "metadata": {
      "needs_background": "light"
     },
     "output_type": "display_data"
    }
   ],
   "source": [
    "#### Your code here ####\n",
    "cut_off_values = list(chi_table[1].keys()) # list of cut off values to check\n",
    "\n",
    "accuracy_train_list = list()  #list of accuracy in the train set\n",
    "accuracy_test_list = list() #list of accuracy in the test set\n",
    "depth_list = list() #list of tree depths\n",
    "\n",
    "best_accuracy_train, best_accuracy_test = 0, 0 #best of accuracy in the train set and test set respectivly\n",
    "best_chi_train, best_chi_test=0, 0 #chi of best accuracy in the train set and test set respectivly\n",
    "best_depth_chi_train, best_depth_chi_test=0, 0 #depth of best accuracy in the train set and test set respectivly\n",
    "\n",
    "\n",
    "for chi in cut_off_values:\n",
    "    #build the tree for each cut of value and calcualte the accuracy for both test and train sets \n",
    "    tree = build_tree(data=X_train, impurity=calc_entropy,gain_ratio=True,chi=chi)\n",
    "    accuracy_train = (calc_accuracy(tree,X_train))\n",
    "    accuracy_test = (calc_accuracy(tree,X_test))\n",
    "\n",
    "    #append the tree's depth to the list\n",
    "    depth_list.append(str(tuple([chi,tree.max_depth])))\n",
    "\n",
    "    #append the accuracy to each list\n",
    "    accuracy_train_list.append(accuracy_train)\n",
    "    accuracy_test_list.append(accuracy_test)\n",
    "    \n",
    "    #check for best accuracy in train set\n",
    "    if(accuracy_train > best_accuracy_train):\n",
    "        best_accuracy_train = accuracy_train \n",
    "        best_depth_train = tree.max_depth\n",
    "        best_depth_chi_train = chi\n",
    "        \n",
    "    #check for best accuracy in test set\n",
    "    if(accuracy_test > best_accuracy_test):\n",
    "        best_accuracy_test = accuracy_test \n",
    "        best_depth_chi_test = tree.max_depth\n",
    "        best_chi_test = chi\n",
    "        \n",
    "\n",
    "#plot the graph\n",
    "plt.figure(figsize=(15, 10))\n",
    "plt.xscale('log')\n",
    "plt.xticks(cut_off_values, depth_list)\n",
    "plt.plot(cut_off_values, accuracy_train_list)\n",
    "plt.plot(cut_off_values, accuracy_test_list)\n",
    "plt.scatter(best_chi_test, best_accuracy_test, s=200, color='None',edgecolor = 'red')\n",
    "plt.xlabel('(Chi values, depth)')\n",
    "plt.ylabel('Accuracy (%)')\n",
    "plt.title('Accuracy as a function of the chi value')\n",
    "plt.legend(['Train accuracy', 'Test accuracy']);\n",
    "plt.show()"
   ]
  },
  {
   "cell_type": "markdown",
   "metadata": {},
   "source": [
    "Build the best 2 trees:\n",
    "1. tree_max_depth - the best tree according to max_depth pruning\n",
    "1. tree_chi - the best tree according to chi square pruning"
   ]
  },
  {
   "cell_type": "code",
   "execution_count": 21,
   "metadata": {},
   "outputs": [],
   "source": [
    "#### Your code here ####\n",
    "tree_max_depth  =  build_tree(data=X_train, impurity=calc_entropy,gain_ratio=True,max_depth=best_depth_test)\n",
    "tree_chi =  build_tree(data=X_train, impurity=calc_entropy,gain_ratio=True,chi=best_chi_test)"
   ]
  },
  {
   "cell_type": "markdown",
   "metadata": {},
   "source": [
    "## Number of Nodes\n",
    "\n",
    "(5 points) \n",
    "\n",
    "Of the two trees above we will choose the one with fewer nodes.\n",
    "\n",
    "Complete the function counts_nodes and print the number of nodes in each tree"
   ]
  },
  {
   "cell_type": "code",
   "execution_count": 22,
   "metadata": {},
   "outputs": [],
   "source": [
    "def count_nodes(node):\n",
    "    \"\"\"\n",
    "    Count the number of node in a given tree\n",
    " \n",
    "    Input:\n",
    "    - node: a node in the decision tree.\n",
    " \n",
    "    Output: the number of node in the tree.\n",
    "    \"\"\"\n",
    "    ###########################################################################\n",
    "    # TODO: Implement the function.                                           #\n",
    "    ###########################################################################\n",
    "    return node.nodes_count\n",
    "    ###########################################################################\n",
    "    #                             END OF YOUR CODE                            #\n",
    "    ###########################################################################\n",
    "    "
   ]
  },
  {
   "cell_type": "markdown",
   "metadata": {},
   "source": [
    "## Print the tree\n",
    "\n",
    "(5 points)\n",
    "\n",
    "Complete the function `print_tree` and execute it on your chosen tree. Your code should do print:\n",
    "```\n",
    "[ROOT, feature=X0],\n",
    "  [X0=a, feature=X2]\n",
    "    [X2=c, leaf]: [{1.0: 10}]\n",
    "    [X2=d, leaf]: [{0.0: 10}]\n",
    "  [X0=y, feature=X5], \n",
    "       [X5=a, leaf]: [{1.0: 5}]\n",
    "       [X5=s, leaf]: [{0.0: 10}]\n",
    "  [X0=e, leaf]: [{0.0: 25, 1.0: 50}]\n",
    "```\n",
    "In each brackets:\n",
    "* The first argument is the parent feature with the value that led to current node\n",
    "* The second argument is the selected feature of the current node\n",
    "* If the current node is a leaf, you need to print also the labels and their counts"
   ]
  },
  {
   "cell_type": "code",
   "execution_count": 23,
   "metadata": {},
   "outputs": [
    {
     "ename": "UnboundLocalError",
     "evalue": "local variable 'res' referenced before assignment",
     "output_type": "error",
     "traceback": [
      "\u001b[1;31m---------------------------------------------------------------------------\u001b[0m",
      "\u001b[1;31mUnboundLocalError\u001b[0m                         Traceback (most recent call last)",
      "\u001b[1;32m<ipython-input-23-233d599edbcd>\u001b[0m in \u001b[0;36m<module>\u001b[1;34m\u001b[0m\n\u001b[0;32m     17\u001b[0m     \u001b[1;31m#                             END OF YOUR CODE                            #\u001b[0m\u001b[1;33m\u001b[0m\u001b[1;33m\u001b[0m\u001b[1;33m\u001b[0m\u001b[0m\n\u001b[0;32m     18\u001b[0m     \u001b[1;31m###########################################################################\u001b[0m\u001b[1;33m\u001b[0m\u001b[1;33m\u001b[0m\u001b[1;33m\u001b[0m\u001b[0m\n\u001b[1;32m---> 19\u001b[1;33m \u001b[0mprint_tree\u001b[0m\u001b[1;33m(\u001b[0m\u001b[0mtree_max_depth\u001b[0m\u001b[1;33m)\u001b[0m\u001b[1;33m\u001b[0m\u001b[1;33m\u001b[0m\u001b[0m\n\u001b[0m",
      "\u001b[1;32m<ipython-input-23-233d599edbcd>\u001b[0m in \u001b[0;36mprint_tree\u001b[1;34m(node, depth, parent_feature, feature_val)\u001b[0m\n\u001b[0;32m     13\u001b[0m     \u001b[1;31m# TODO: Implement the function.                                           #\u001b[0m\u001b[1;33m\u001b[0m\u001b[1;33m\u001b[0m\u001b[1;33m\u001b[0m\u001b[0m\n\u001b[0;32m     14\u001b[0m     \u001b[1;31m###########################################################################\u001b[0m\u001b[1;33m\u001b[0m\u001b[1;33m\u001b[0m\u001b[1;33m\u001b[0m\u001b[0m\n\u001b[1;32m---> 15\u001b[1;33m     \u001b[0mprint\u001b[0m\u001b[1;33m(\u001b[0m\u001b[0mnode\u001b[0m\u001b[1;33m)\u001b[0m\u001b[1;33m\u001b[0m\u001b[1;33m\u001b[0m\u001b[0m\n\u001b[0m\u001b[0;32m     16\u001b[0m     \u001b[1;31m###########################################################################\u001b[0m\u001b[1;33m\u001b[0m\u001b[1;33m\u001b[0m\u001b[1;33m\u001b[0m\u001b[0m\n\u001b[0;32m     17\u001b[0m     \u001b[1;31m#                             END OF YOUR CODE                            #\u001b[0m\u001b[1;33m\u001b[0m\u001b[1;33m\u001b[0m\u001b[1;33m\u001b[0m\u001b[0m\n",
      "\u001b[1;32m<ipython-input-12-21b8b49b2f07>\u001b[0m in \u001b[0;36m__repr__\u001b[1;34m(self, level)\u001b[0m\n\u001b[0;32m     69\u001b[0m         \u001b[1;31m#for each child recursively over the tree and represent it\u001b[0m\u001b[1;33m\u001b[0m\u001b[1;33m\u001b[0m\u001b[1;33m\u001b[0m\u001b[0m\n\u001b[0;32m     70\u001b[0m         \u001b[1;32mfor\u001b[0m \u001b[0mchild\u001b[0m \u001b[1;32min\u001b[0m \u001b[0mself\u001b[0m\u001b[1;33m.\u001b[0m\u001b[0mchildren\u001b[0m\u001b[1;33m:\u001b[0m\u001b[1;33m\u001b[0m\u001b[1;33m\u001b[0m\u001b[0m\n\u001b[1;32m---> 71\u001b[1;33m             \u001b[0mres\u001b[0m \u001b[1;33m+=\u001b[0m \u001b[0mchild\u001b[0m\u001b[1;33m.\u001b[0m\u001b[0m__repr__\u001b[0m\u001b[1;33m(\u001b[0m\u001b[0mlevel\u001b[0m\u001b[1;33m+\u001b[0m\u001b[1;36m1\u001b[0m\u001b[1;33m)\u001b[0m\u001b[1;33m\u001b[0m\u001b[1;33m\u001b[0m\u001b[0m\n\u001b[0m\u001b[0;32m     72\u001b[0m         \u001b[1;32mreturn\u001b[0m \u001b[0mres\u001b[0m\u001b[1;33m\u001b[0m\u001b[1;33m\u001b[0m\u001b[0m\n\u001b[0;32m     73\u001b[0m \u001b[1;33m\u001b[0m\u001b[0m\n",
      "\u001b[1;31mUnboundLocalError\u001b[0m: local variable 'res' referenced before assignment"
     ]
    }
   ],
   "source": [
    "# you can change the function signeture\n",
    "def print_tree(node, depth=0, parent_feature='ROOT', feature_val='ROOT'):\n",
    "    '''\n",
    "    prints the tree according to the example above\n",
    "\n",
    "    Input:\n",
    "    - node: a node in the decision tree\n",
    "\n",
    "    This function has no return value\n",
    "    '''\n",
    "\n",
    "    ###########################################################################\n",
    "    # TODO: Implement the function.                                           #\n",
    "    ###########################################################################\n",
    "    print(node)\n",
    "    ###########################################################################\n",
    "    #                             END OF YOUR CODE                            #\n",
    "    ###########################################################################\n",
    "print_tree(tree_max_depth)"
   ]
  }
 ],
 "metadata": {
  "celltoolbar": "Create Assignment",
  "kernelspec": {
   "display_name": "Python 3",
   "language": "python",
   "name": "python3"
  },
  "language_info": {
   "codemirror_mode": {
    "name": "ipython",
    "version": 3
   },
   "file_extension": ".py",
   "mimetype": "text/x-python",
   "name": "python",
   "nbconvert_exporter": "python",
   "pygments_lexer": "ipython3",
   "version": "3.7.6"
  },
  "pycharm": {
   "stem_cell": {
    "cell_type": "raw",
    "metadata": {
     "collapsed": false
    },
    "source": []
   }
  }
 },
 "nbformat": 4,
 "nbformat_minor": 2
}
